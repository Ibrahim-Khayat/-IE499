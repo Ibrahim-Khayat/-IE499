{
 "cells": [
  {
   "cell_type": "markdown",
   "metadata": {},
   "source": [
    "R Code pulled from https://www.statmethods.net/advgraphs/ggplot2.html"
   ]
  },
  {
   "cell_type": "code",
   "execution_count": 1,
   "metadata": {},
   "outputs": [],
   "source": [
    "# ggplot2 examples\n",
    "library(ggplot2) "
   ]
  },
  {
   "cell_type": "code",
   "execution_count": 3,
   "metadata": {},
   "outputs": [
    {
     "name": "stderr",
     "output_type": "stream",
     "text": [
      "Installing package into ‘/srv/rlibs’\n",
      "(as ‘lib’ is unspecified)\n",
      "\n",
      "also installing the dependencies ‘numDeriv’, ‘warp’, ‘BH’, ‘distributional’, ‘progressr’, ‘slider’, ‘anytime’, ‘fable’, ‘fabletools’, ‘feasts’, ‘tsibble’, ‘tsibbledata’, ‘urca’\n",
      "\n",
      "\n"
     ]
    }
   ],
   "source": [
    "install.packages(\"fpp3\")"
   ]
  },
  {
   "cell_type": "code",
   "execution_count": 1,
   "metadata": {},
   "outputs": [
    {
     "name": "stderr",
     "output_type": "stream",
     "text": [
      "── \u001b[1mAttaching packages\u001b[22m ──────────────────────────────────────────── fpp3 0.4.0 ──\n",
      "\n",
      "\u001b[32m✔\u001b[39m \u001b[34mtibble     \u001b[39m 3.1.6     \u001b[32m✔\u001b[39m \u001b[34mtsibble    \u001b[39m 1.1.1\n",
      "\u001b[32m✔\u001b[39m \u001b[34mdplyr      \u001b[39m 1.0.7     \u001b[32m✔\u001b[39m \u001b[34mtsibbledata\u001b[39m 0.4.0\n",
      "\u001b[32m✔\u001b[39m \u001b[34mtidyr      \u001b[39m 1.1.4     \u001b[32m✔\u001b[39m \u001b[34mfeasts     \u001b[39m 0.2.2\n",
      "\u001b[32m✔\u001b[39m \u001b[34mlubridate  \u001b[39m 1.8.0     \u001b[32m✔\u001b[39m \u001b[34mfable      \u001b[39m 0.3.1\n",
      "\u001b[32m✔\u001b[39m \u001b[34mggplot2    \u001b[39m 3.3.5     \n",
      "\n",
      "── \u001b[1mConflicts\u001b[22m ───────────────────────────────────────────────── fpp3_conflicts ──\n",
      "\u001b[31m✖\u001b[39m \u001b[34mlubridate\u001b[39m::\u001b[32mdate()\u001b[39m    masks \u001b[34mbase\u001b[39m::date()\n",
      "\u001b[31m✖\u001b[39m \u001b[34mdplyr\u001b[39m::\u001b[32mfilter()\u001b[39m      masks \u001b[34mstats\u001b[39m::filter()\n",
      "\u001b[31m✖\u001b[39m \u001b[34mtsibble\u001b[39m::\u001b[32mintersect()\u001b[39m masks \u001b[34mbase\u001b[39m::intersect()\n",
      "\u001b[31m✖\u001b[39m \u001b[34mtsibble\u001b[39m::\u001b[32minterval()\u001b[39m  masks \u001b[34mlubridate\u001b[39m::interval()\n",
      "\u001b[31m✖\u001b[39m \u001b[34mdplyr\u001b[39m::\u001b[32mlag()\u001b[39m         masks \u001b[34mstats\u001b[39m::lag()\n",
      "\u001b[31m✖\u001b[39m \u001b[34mtsibble\u001b[39m::\u001b[32msetdiff()\u001b[39m   masks \u001b[34mbase\u001b[39m::setdiff()\n",
      "\u001b[31m✖\u001b[39m \u001b[34mtsibble\u001b[39m::\u001b[32munion()\u001b[39m     masks \u001b[34mbase\u001b[39m::union()\n",
      "\n"
     ]
    }
   ],
   "source": [
    "library(fpp3)"
   ]
  },
  {
   "cell_type": "code",
   "execution_count": 45,
   "metadata": {
    "scrolled": true
   },
   "outputs": [
    {
     "data": {
      "text/html": [
       "<table class=\"dataframe\">\n",
       "<caption>A fbl_ts: 24 × 6</caption>\n",
       "<thead>\n",
       "\t<tr><th scope=col>State</th><th scope=col>Industry</th><th scope=col>.model</th><th scope=col>Month</th><th scope=col>Turnover</th><th scope=col>.mean</th></tr>\n",
       "\t<tr><th scope=col>&lt;chr&gt;</th><th scope=col>&lt;chr&gt;</th><th scope=col>&lt;chr&gt;</th><th scope=col>&lt;mth&gt;</th><th scope=col>&lt;dist&gt;</th><th scope=col>&lt;dbl&gt;</th></tr>\n",
       "</thead>\n",
       "<tbody>\n",
       "\t<tr><td>Victoria</td><td>Cafes, restaurants and catering services</td><td>ETS(Turnover)</td><td>2019 Jan</td><td>N(608, 978)</td><td>608.0680</td></tr>\n",
       "\t<tr><td>Victoria</td><td>Cafes, restaurants and catering services</td><td>ETS(Turnover)</td><td>2019 Feb</td><td>N(551, 1129)</td><td>551.0745</td></tr>\n",
       "\t<tr><td>Victoria</td><td>Cafes, restaurants and catering services</td><td>ETS(Turnover)</td><td>2019 Mar</td><td>N(622, 1856)</td><td>621.6172</td></tr>\n",
       "\t<tr><td>Victoria</td><td>Cafes, restaurants and catering services</td><td>ETS(Turnover)</td><td>2019 Apr</td><td>N(609, 2190)</td><td>609.3306</td></tr>\n",
       "\t<tr><td>Victoria</td><td>Cafes, restaurants and catering services</td><td>ETS(Turnover)</td><td>2019 May</td><td>N(602, 2539)</td><td>602.0018</td></tr>\n",
       "\t<tr><td>Victoria</td><td>Cafes, restaurants and catering services</td><td>ETS(Turnover)</td><td>2019 Jun</td><td>N(577, 2704)</td><td>576.9750</td></tr>\n",
       "\t<tr><td>Victoria</td><td>Cafes, restaurants and catering services</td><td>ETS(Turnover)</td><td>2019 Jul</td><td>N(607, 3413)</td><td>607.4074</td></tr>\n",
       "\t<tr><td>Victoria</td><td>Cafes, restaurants and catering services</td><td>ETS(Turnover)</td><td>2019 Aug</td><td>N(626, 4072)</td><td>625.9879</td></tr>\n",
       "\t<tr><td>Victoria</td><td>Cafes, restaurants and catering services</td><td>ETS(Turnover)</td><td>2019 Sep</td><td>N(614, 4358)</td><td>614.4748</td></tr>\n",
       "\t<tr><td>Victoria</td><td>Cafes, restaurants and catering services</td><td>ETS(Turnover)</td><td>2019 Oct</td><td>N(624, 4942)</td><td>623.6779</td></tr>\n",
       "\t<tr><td>Victoria</td><td>Cafes, restaurants and catering services</td><td>ETS(Turnover)</td><td>2019 Nov</td><td>N(632, 5535)</td><td>631.5166</td></tr>\n",
       "\t<tr><td>Victoria</td><td>Cafes, restaurants and catering services</td><td>ETS(Turnover)</td><td>2019 Dec</td><td>N(704, 7460)</td><td>703.7229</td></tr>\n",
       "\t<tr><td>Victoria</td><td>Cafes, restaurants and catering services</td><td>ETS(Turnover)</td><td>2020 Jan</td><td>N(631, 6616)</td><td>630.8351</td></tr>\n",
       "\t<tr><td>Victoria</td><td>Cafes, restaurants and catering services</td><td>ETS(Turnover)</td><td>2020 Feb</td><td>N(572, 5828)</td><td>571.6440</td></tr>\n",
       "\t<tr><td>Victoria</td><td>Cafes, restaurants and catering services</td><td>ETS(Turnover)</td><td>2020 Mar</td><td>N(645, 7920)</td><td>644.7486</td></tr>\n",
       "\t<tr><td>Victoria</td><td>Cafes, restaurants and catering services</td><td>ETS(Turnover)</td><td>2020 Apr</td><td>N(632, 8100)</td><td>631.9353</td></tr>\n",
       "\t<tr><td>Victoria</td><td>Cafes, restaurants and catering services</td><td>ETS(Turnover)</td><td>2020 May</td><td>N(624, 8389)</td><td>624.2665</td></tr>\n",
       "\t<tr><td>Victoria</td><td>Cafes, restaurants and catering services</td><td>ETS(Turnover)</td><td>2020 Jun</td><td>N(598, 8153)</td><td>598.2492</td></tr>\n",
       "\t<tr><td>Victoria</td><td>Cafes, restaurants and catering services</td><td>ETS(Turnover)</td><td>2020 Jul</td><td>N(630, 9536)</td><td>629.7357</td></tr>\n",
       "\t<tr><td>Victoria</td><td>Cafes, restaurants and catering services</td><td>ETS(Turnover)</td><td>2020 Aug</td><td>N(649, 10664)</td><td>648.9295</td></tr>\n",
       "\t<tr><td>Victoria</td><td>Cafes, restaurants and catering services</td><td>ETS(Turnover)</td><td>2020 Sep</td><td>N(637, 10796)</td><td>636.9266</td></tr>\n",
       "\t<tr><td>Victoria</td><td>Cafes, restaurants and catering services</td><td>ETS(Turnover)</td><td>2020 Oct</td><td>N(646, 11663)</td><td>646.3975</td></tr>\n",
       "\t<tr><td>Victoria</td><td>Cafes, restaurants and catering services</td><td>ETS(Turnover)</td><td>2020 Nov</td><td>N(654, 12517)</td><td>654.4527</td></tr>\n",
       "\t<tr><td>Victoria</td><td>Cafes, restaurants and catering services</td><td>ETS(Turnover)</td><td>2020 Dec</td><td>N(729, 16244)</td><td>729.2052</td></tr>\n",
       "</tbody>\n",
       "</table>\n"
      ],
      "text/latex": [
       "A fbl\\_ts: 24 × 6\n",
       "\\begin{tabular}{llllll}\n",
       " State & Industry & .model & Month & Turnover & .mean\\\\\n",
       " <chr> & <chr> & <chr> & <mth> & <dist> & <dbl>\\\\\n",
       "\\hline\n",
       "\t Victoria & Cafes, restaurants and catering services & ETS(Turnover) & 2019 Jan & N(608, 978) & 608.0680\\\\\n",
       "\t Victoria & Cafes, restaurants and catering services & ETS(Turnover) & 2019 Feb & N(551, 1129) & 551.0745\\\\\n",
       "\t Victoria & Cafes, restaurants and catering services & ETS(Turnover) & 2019 Mar & N(622, 1856) & 621.6172\\\\\n",
       "\t Victoria & Cafes, restaurants and catering services & ETS(Turnover) & 2019 Apr & N(609, 2190) & 609.3306\\\\\n",
       "\t Victoria & Cafes, restaurants and catering services & ETS(Turnover) & 2019 May & N(602, 2539) & 602.0018\\\\\n",
       "\t Victoria & Cafes, restaurants and catering services & ETS(Turnover) & 2019 Jun & N(577, 2704) & 576.9750\\\\\n",
       "\t Victoria & Cafes, restaurants and catering services & ETS(Turnover) & 2019 Jul & N(607, 3413) & 607.4074\\\\\n",
       "\t Victoria & Cafes, restaurants and catering services & ETS(Turnover) & 2019 Aug & N(626, 4072) & 625.9879\\\\\n",
       "\t Victoria & Cafes, restaurants and catering services & ETS(Turnover) & 2019 Sep & N(614, 4358) & 614.4748\\\\\n",
       "\t Victoria & Cafes, restaurants and catering services & ETS(Turnover) & 2019 Oct & N(624, 4942) & 623.6779\\\\\n",
       "\t Victoria & Cafes, restaurants and catering services & ETS(Turnover) & 2019 Nov & N(632, 5535) & 631.5166\\\\\n",
       "\t Victoria & Cafes, restaurants and catering services & ETS(Turnover) & 2019 Dec & N(704, 7460) & 703.7229\\\\\n",
       "\t Victoria & Cafes, restaurants and catering services & ETS(Turnover) & 2020 Jan & N(631, 6616) & 630.8351\\\\\n",
       "\t Victoria & Cafes, restaurants and catering services & ETS(Turnover) & 2020 Feb & N(572, 5828) & 571.6440\\\\\n",
       "\t Victoria & Cafes, restaurants and catering services & ETS(Turnover) & 2020 Mar & N(645, 7920) & 644.7486\\\\\n",
       "\t Victoria & Cafes, restaurants and catering services & ETS(Turnover) & 2020 Apr & N(632, 8100) & 631.9353\\\\\n",
       "\t Victoria & Cafes, restaurants and catering services & ETS(Turnover) & 2020 May & N(624, 8389) & 624.2665\\\\\n",
       "\t Victoria & Cafes, restaurants and catering services & ETS(Turnover) & 2020 Jun & N(598, 8153) & 598.2492\\\\\n",
       "\t Victoria & Cafes, restaurants and catering services & ETS(Turnover) & 2020 Jul & N(630, 9536) & 629.7357\\\\\n",
       "\t Victoria & Cafes, restaurants and catering services & ETS(Turnover) & 2020 Aug & N(649, 10664) & 648.9295\\\\\n",
       "\t Victoria & Cafes, restaurants and catering services & ETS(Turnover) & 2020 Sep & N(637, 10796) & 636.9266\\\\\n",
       "\t Victoria & Cafes, restaurants and catering services & ETS(Turnover) & 2020 Oct & N(646, 11663) & 646.3975\\\\\n",
       "\t Victoria & Cafes, restaurants and catering services & ETS(Turnover) & 2020 Nov & N(654, 12517) & 654.4527\\\\\n",
       "\t Victoria & Cafes, restaurants and catering services & ETS(Turnover) & 2020 Dec & N(729, 16244) & 729.2052\\\\\n",
       "\\end{tabular}\n"
      ],
      "text/markdown": [
       "\n",
       "A fbl_ts: 24 × 6\n",
       "\n",
       "| State &lt;chr&gt; | Industry &lt;chr&gt; | .model &lt;chr&gt; | Month &lt;mth&gt; | Turnover &lt;dist&gt; | .mean &lt;dbl&gt; |\n",
       "|---|---|---|---|---|---|\n",
       "| Victoria | Cafes, restaurants and catering services | ETS(Turnover) | 2019 Jan | N(608, 978) | 608.0680 |\n",
       "| Victoria | Cafes, restaurants and catering services | ETS(Turnover) | 2019 Feb | N(551, 1129) | 551.0745 |\n",
       "| Victoria | Cafes, restaurants and catering services | ETS(Turnover) | 2019 Mar | N(622, 1856) | 621.6172 |\n",
       "| Victoria | Cafes, restaurants and catering services | ETS(Turnover) | 2019 Apr | N(609, 2190) | 609.3306 |\n",
       "| Victoria | Cafes, restaurants and catering services | ETS(Turnover) | 2019 May | N(602, 2539) | 602.0018 |\n",
       "| Victoria | Cafes, restaurants and catering services | ETS(Turnover) | 2019 Jun | N(577, 2704) | 576.9750 |\n",
       "| Victoria | Cafes, restaurants and catering services | ETS(Turnover) | 2019 Jul | N(607, 3413) | 607.4074 |\n",
       "| Victoria | Cafes, restaurants and catering services | ETS(Turnover) | 2019 Aug | N(626, 4072) | 625.9879 |\n",
       "| Victoria | Cafes, restaurants and catering services | ETS(Turnover) | 2019 Sep | N(614, 4358) | 614.4748 |\n",
       "| Victoria | Cafes, restaurants and catering services | ETS(Turnover) | 2019 Oct | N(624, 4942) | 623.6779 |\n",
       "| Victoria | Cafes, restaurants and catering services | ETS(Turnover) | 2019 Nov | N(632, 5535) | 631.5166 |\n",
       "| Victoria | Cafes, restaurants and catering services | ETS(Turnover) | 2019 Dec | N(704, 7460) | 703.7229 |\n",
       "| Victoria | Cafes, restaurants and catering services | ETS(Turnover) | 2020 Jan | N(631, 6616) | 630.8351 |\n",
       "| Victoria | Cafes, restaurants and catering services | ETS(Turnover) | 2020 Feb | N(572, 5828) | 571.6440 |\n",
       "| Victoria | Cafes, restaurants and catering services | ETS(Turnover) | 2020 Mar | N(645, 7920) | 644.7486 |\n",
       "| Victoria | Cafes, restaurants and catering services | ETS(Turnover) | 2020 Apr | N(632, 8100) | 631.9353 |\n",
       "| Victoria | Cafes, restaurants and catering services | ETS(Turnover) | 2020 May | N(624, 8389) | 624.2665 |\n",
       "| Victoria | Cafes, restaurants and catering services | ETS(Turnover) | 2020 Jun | N(598, 8153) | 598.2492 |\n",
       "| Victoria | Cafes, restaurants and catering services | ETS(Turnover) | 2020 Jul | N(630, 9536) | 629.7357 |\n",
       "| Victoria | Cafes, restaurants and catering services | ETS(Turnover) | 2020 Aug | N(649, 10664) | 648.9295 |\n",
       "| Victoria | Cafes, restaurants and catering services | ETS(Turnover) | 2020 Sep | N(637, 10796) | 636.9266 |\n",
       "| Victoria | Cafes, restaurants and catering services | ETS(Turnover) | 2020 Oct | N(646, 11663) | 646.3975 |\n",
       "| Victoria | Cafes, restaurants and catering services | ETS(Turnover) | 2020 Nov | N(654, 12517) | 654.4527 |\n",
       "| Victoria | Cafes, restaurants and catering services | ETS(Turnover) | 2020 Dec | N(729, 16244) | 729.2052 |\n",
       "\n"
      ],
      "text/plain": [
       "   State    Industry                                 .model        Month   \n",
       "1  Victoria Cafes, restaurants and catering services ETS(Turnover) 2019 Jan\n",
       "2  Victoria Cafes, restaurants and catering services ETS(Turnover) 2019 Feb\n",
       "3  Victoria Cafes, restaurants and catering services ETS(Turnover) 2019 Mar\n",
       "4  Victoria Cafes, restaurants and catering services ETS(Turnover) 2019 Apr\n",
       "5  Victoria Cafes, restaurants and catering services ETS(Turnover) 2019 May\n",
       "6  Victoria Cafes, restaurants and catering services ETS(Turnover) 2019 Jun\n",
       "7  Victoria Cafes, restaurants and catering services ETS(Turnover) 2019 Jul\n",
       "8  Victoria Cafes, restaurants and catering services ETS(Turnover) 2019 Aug\n",
       "9  Victoria Cafes, restaurants and catering services ETS(Turnover) 2019 Sep\n",
       "10 Victoria Cafes, restaurants and catering services ETS(Turnover) 2019 Oct\n",
       "11 Victoria Cafes, restaurants and catering services ETS(Turnover) 2019 Nov\n",
       "12 Victoria Cafes, restaurants and catering services ETS(Turnover) 2019 Dec\n",
       "13 Victoria Cafes, restaurants and catering services ETS(Turnover) 2020 Jan\n",
       "14 Victoria Cafes, restaurants and catering services ETS(Turnover) 2020 Feb\n",
       "15 Victoria Cafes, restaurants and catering services ETS(Turnover) 2020 Mar\n",
       "16 Victoria Cafes, restaurants and catering services ETS(Turnover) 2020 Apr\n",
       "17 Victoria Cafes, restaurants and catering services ETS(Turnover) 2020 May\n",
       "18 Victoria Cafes, restaurants and catering services ETS(Turnover) 2020 Jun\n",
       "19 Victoria Cafes, restaurants and catering services ETS(Turnover) 2020 Jul\n",
       "20 Victoria Cafes, restaurants and catering services ETS(Turnover) 2020 Aug\n",
       "21 Victoria Cafes, restaurants and catering services ETS(Turnover) 2020 Sep\n",
       "22 Victoria Cafes, restaurants and catering services ETS(Turnover) 2020 Oct\n",
       "23 Victoria Cafes, restaurants and catering services ETS(Turnover) 2020 Nov\n",
       "24 Victoria Cafes, restaurants and catering services ETS(Turnover) 2020 Dec\n",
       "   Turnover      .mean   \n",
       "1  N(608, 978)   608.0680\n",
       "2  N(551, 1129)  551.0745\n",
       "3  N(622, 1856)  621.6172\n",
       "4  N(609, 2190)  609.3306\n",
       "5  N(602, 2539)  602.0018\n",
       "6  N(577, 2704)  576.9750\n",
       "7  N(607, 3413)  607.4074\n",
       "8  N(626, 4072)  625.9879\n",
       "9  N(614, 4358)  614.4748\n",
       "10 N(624, 4942)  623.6779\n",
       "11 N(632, 5535)  631.5166\n",
       "12 N(704, 7460)  703.7229\n",
       "13 N(631, 6616)  630.8351\n",
       "14 N(572, 5828)  571.6440\n",
       "15 N(645, 7920)  644.7486\n",
       "16 N(632, 8100)  631.9353\n",
       "17 N(624, 8389)  624.2665\n",
       "18 N(598, 8153)  598.2492\n",
       "19 N(630, 9536)  629.7357\n",
       "20 N(649, 10664) 648.9295\n",
       "21 N(637, 10796) 636.9266\n",
       "22 N(646, 11663) 646.3975\n",
       "23 N(654, 12517) 654.4527\n",
       "24 N(729, 16244) 729.2052"
      ]
     },
     "metadata": {},
     "output_type": "display_data"
    },
    {
     "data": {
      "image/png": "[encoded data removed]",
      "text/plain": [
       "plot without title"
      ]
     },
     "metadata": {
      "image/png": {
       "height": 420,
       "width": 420
      }
     },
     "output_type": "display_data"
    }
   ],
   "source": [
    "aus_retail |>\n",
    "  filter(`Series ID`==\"A3349640L\") |>\n",
    "  autoplot(Turnover)\n",
    "\n",
    "# Produce some forecasts\n",
    "aus_retail |>\n",
    "  filter(`Series ID`==\"A3349640L\") |>\n",
    "  model(ETS(Turnover)) |>\n",
    "  forecast(h = \"2 years\")"
   ]
  },
  {
   "cell_type": "code",
   "execution_count": 32,
   "metadata": {},
   "outputs": [],
   "source": [
    "Karthik <- tibble(\n",
    "  Month = c(\"2019 Jan\",\"2019 Feb\",\"2019 Mar\",\"2019 Apr\",\"2019 May\",\"2019 Jun\",\"2019 Jul\",\"2019 Aug\",\"2019 Sep\",\"2019 Oct\",\"2019 Nov\",\"2019 Dec\",\"2020 Jan\",\"2020 Feb\",\"2020 Mar\",\"2020 Apr\",\"2020 May\",\"2020 Jun\",\"2020 Jul\",\"2020 Aug\",\"2020 Sep\",\"2020 Oct\",\"2020 Nov\",\"2020 Dec\",\"2021 Jan\",\"2021 Feb\",\"2021 Mar\",\"2021 Apr\",\"2021 May\",\"2021 Jun\",\"2021 Jul\",\"2021 Aug\",\"2021 Sep\",\"2021 Oct\",\"2021 Nov\",\"2021 Dec\",\"2022 Jan\",\"2022 Feb\",\"2022 Mar\",\"2022 Apr\",\"2022 May\",\"2022 Jun\",\"2022 Jul\",\"2022 Aug\",\"2022 Sep\",\"2022 Oct\",\"2022 Nov\",\"2022 Dec\"), \n",
    "  Observation = c(1296,1112,1129,979,752,676,748,998,1299,1727,1992,1999,1700,1518,1508,1208,1157,915,1284,1494,1773,2135,2201,2195,1662,1305,1389,1164,908,1116,1471,1527,1771,1952,2005,2144,1837,1655,1692,1387,1351,1521,1694,1667,2034,2255,2342,2502)\n",
    "\n",
    ")"
   ]
  },
  {
   "cell_type": "code",
   "execution_count": 33,
   "metadata": {},
   "outputs": [
    {
     "data": {
      "text/html": [
       "<table class=\"dataframe\">\n",
       "<caption>A tibble: 6 × 2</caption>\n",
       "<thead>\n",
       "\t<tr><th scope=col>Month</th><th scope=col>Observation</th></tr>\n",
       "\t<tr><th scope=col>&lt;chr&gt;</th><th scope=col>&lt;dbl&gt;</th></tr>\n",
       "</thead>\n",
       "<tbody>\n",
       "\t<tr><td>2019 Jan</td><td>1296</td></tr>\n",
       "\t<tr><td>2019 Feb</td><td>1112</td></tr>\n",
       "\t<tr><td>2019 Mar</td><td>1129</td></tr>\n",
       "\t<tr><td>2019 Apr</td><td> 979</td></tr>\n",
       "\t<tr><td>2019 May</td><td> 752</td></tr>\n",
       "\t<tr><td>2019 Jun</td><td> 676</td></tr>\n",
       "</tbody>\n",
       "</table>\n"
      ],
      "text/latex": [
       "A tibble: 6 × 2\n",
       "\\begin{tabular}{ll}\n",
       " Month & Observation\\\\\n",
       " <chr> & <dbl>\\\\\n",
       "\\hline\n",
       "\t 2019 Jan & 1296\\\\\n",
       "\t 2019 Feb & 1112\\\\\n",
       "\t 2019 Mar & 1129\\\\\n",
       "\t 2019 Apr &  979\\\\\n",
       "\t 2019 May &  752\\\\\n",
       "\t 2019 Jun &  676\\\\\n",
       "\\end{tabular}\n"
      ],
      "text/markdown": [
       "\n",
       "A tibble: 6 × 2\n",
       "\n",
       "| Month &lt;chr&gt; | Observation &lt;dbl&gt; |\n",
       "|---|---|\n",
       "| 2019 Jan | 1296 |\n",
       "| 2019 Feb | 1112 |\n",
       "| 2019 Mar | 1129 |\n",
       "| 2019 Apr |  979 |\n",
       "| 2019 May |  752 |\n",
       "| 2019 Jun |  676 |\n",
       "\n"
      ],
      "text/plain": [
       "  Month    Observation\n",
       "1 2019 Jan 1296       \n",
       "2 2019 Feb 1112       \n",
       "3 2019 Mar 1129       \n",
       "4 2019 Apr  979       \n",
       "5 2019 May  752       \n",
       "6 2019 Jun  676       "
      ]
     },
     "metadata": {},
     "output_type": "display_data"
    }
   ],
   "source": [
    "head(Karthik)"
   ]
  },
  {
   "cell_type": "code",
   "execution_count": 44,
   "metadata": {},
   "outputs": [],
   "source": [
    "#This can be converted to a tsibble object using the following code:\n",
    "\n",
    "Karthik <- Karthik |>\n",
    "  mutate(Month = yearmonth(Month)) |>\n",
    "  as_tsibble(index = Month)"
   ]
  }
 ],
 "metadata": {
  "kernelspec": {
   "display_name": "R",
   "language": "R",
   "name": "ir"
  },
  "language_info": {
   "codemirror_mode": "r",
   "file_extension": ".r",
   "mimetype": "text/x-r-source",
   "name": "R",
   "pygments_lexer": "r",
   "version": "4.1.3"
  }
 },
 "nbformat": 4,
 "nbformat_minor": 2
}
